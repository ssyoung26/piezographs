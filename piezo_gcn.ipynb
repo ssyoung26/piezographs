{
  "cells": [
    {
      "cell_type": "markdown",
      "metadata": {
        "id": "nOwiLqot0nCv"
      },
      "source": [
        "# Data prep"
      ]
    },
    {
      "cell_type": "code",
      "execution_count": 1,
      "metadata": {
        "id": "M7gjeaJFI_zr"
      },
      "outputs": [],
      "source": [
        "# !pip install mp_api\n",
        "# !pip install schnetpack\n",
        "# !pip install mp_api.client\n",
        "# !pip uninstall numpy --y\n",
        "# !pip install numpy"
      ]
    },
    {
      "cell_type": "code",
      "execution_count": 2,
      "metadata": {
        "id": "FVcPxq5TVXnI"
      },
      "outputs": [],
      "source": [
        "# from mp_api.client import MPRester\n",
        "# from emmet.core.summary import HasProps\n",
        "# import pandas as pd\n",
        "# import numpy as np\n",
        "# import torch\n",
        "# import torch.nn as nn\n",
        "# import torch.optim as optim\n",
        "# from sklearn.model_selection import train_test_split\n",
        "# from sklearn.preprocessing import StandardScaler\n",
        "# from sklearn.ensemble import RandomForestRegressor\n",
        "# from sklearn.metrics import mean_squared_error\n",
        "# import matplotlib.pyplot as plt\n",
        "\n",
        "# # add your api key here\n",
        "# api_key = 'Jy8KgNH5XRyGoHYK6ANxnBmgqFVvtOaN'"
      ]
    },
    {
      "cell_type": "code",
      "execution_count": 3,
      "metadata": {
        "id": "XTdh8PQN0rIg"
      },
      "outputs": [],
      "source": [
        "# from mp_api.client import MPRester\n",
        "\n",
        "# with MPRester(api_key) as mpr:\n",
        "#     docs = mpr.summary.search(\n",
        "#         has_props = [HasProps.piezoelectric], fields=[\"material_id\", \"e_ij_max\"]\n",
        "#     )\n",
        "#     mpids = [(doc.material_id, doc.e_ij_max) for doc in docs]\n",
        "#     material_data = []\n",
        "#     for doc in docs:\n",
        "#         material_id = doc.material_id\n",
        "#         e_ij_max = doc.e_ij_max\n",
        "#         band_gap = doc.band_gap\n",
        "\n",
        "#         structure_doc = mpr.materials.get_data_by_id(material_id, fields=[\"structure\", \"band_gap\"])\n",
        "#         lattice = structure_doc.structure.lattice\n",
        "#         a, b, c = lattice.abc\n",
        "#         alpha, beta, gamma = lattice.angles\n",
        "#         space_group = structure_doc.structure.get_space_group_info()\n",
        "#         atomic_positions = [site.coords for site in structure_doc.structure.sites]\n",
        "#         atomic_elements = [site.specie.symbol for site in structure_doc.structure.sites]\n",
        "\n",
        "#         material_data.append({\n",
        "#             \"material_id\": material_id,\n",
        "#             \"e_ij_max\": e_ij_max,\n",
        "#             \"band_gap\": band_gap,\n",
        "#             \"lattice_a\": a,\n",
        "#             \"lattice_b\": b,\n",
        "#             \"lattice_c\": c,\n",
        "#             \"angle_alpha\": alpha,\n",
        "#             \"angle_beta\": beta,\n",
        "#             \"angle_gamma\": gamma,\n",
        "#             \"space_group\": space_group[1],\n",
        "#             \"atomic_positions\": atomic_positions,\n",
        "#             \"atomic_elements\": atomic_elements\n",
        "#         })\n",
        "\n",
        "# df = pd.DataFrame(material_data)"
      ]
    },
    {
      "cell_type": "markdown",
      "metadata": {
        "id": "OV2VEO3IGGGk"
      },
      "source": [
        "# Splitting Data"
      ]
    },
    {
      "cell_type": "code",
      "execution_count": null,
      "metadata": {
        "id": "HAZXqKKgFjzG"
      },
      "outputs": [],
      "source": [
        "# !pip install schnetpack\n",
        "# !pip install mendeleev\n",
        "# !pip uninstall torch-scatter torch-sparse torch-geometric torch-cluster  --y\n",
        "# !pip install torch-scatter -f https://data.pyg.org/whl/torch-{torch.__version__}.html\n",
        "# !pip install torch-sparse -f https://data.pyg.org/whl/torch-{torch.__version__}.html\n",
        "# !pip install torch-cluster -f https://data.pyg.org/whl/torch-{torch.__version__}.html\n",
        "# !pip install git+https://github.com/pyg-team/pytorch_geometric.git\n",
        "# !pip install torch_geometric"
      ]
    },
    {
      "cell_type": "code",
      "execution_count": 1,
      "metadata": {
        "id": "VGrlIvtk8zcO"
      },
      "outputs": [],
      "source": [
        "import pandas as pd\n",
        "import torch\n",
        "from torch.utils.data import Dataset, DataLoader\n",
        "from torch import nn\n",
        "from torch.optim import Adam\n",
        "from sklearn.model_selection import train_test_split\n",
        "from sklearn.preprocessing import StandardScaler\n",
        "import schnetpack as spk\n",
        "from schnetpack.representation import SchNet\n",
        "import matplotlib.pyplot as plt\n",
        "from schnetpack.nn.cutoff import CosineCutoff\n",
        "from sklearn.preprocessing import LabelEncoder\n",
        "import ast\n",
        "from torch_geometric.data import Data\n",
        "import numpy as np\n",
        "from torch_geometric.nn import GCNConv\n",
        "import torch.nn.functional as F\n",
        "from torch_geometric.data import DataLoader\n",
        "import torch_geometric"
      ]
    },
    {
      "cell_type": "code",
      "execution_count": 2,
      "metadata": {
        "id": "xaGfx-wWEiKu"
      },
      "outputs": [],
      "source": [
        "data = pd.read_csv('piezoelectric_materials_data.csv')\n",
        "X = data.drop('e_ij_max', axis=1)\n",
        "y = data['e_ij_max']\n",
        "\n",
        "def safe_eval(str_repr):\n",
        "    try:\n",
        "        return ast.literal_eval(str_repr)\n",
        "    except ValueError:\n",
        "        safe_str = str_repr.replace('array', '')\n",
        "        return ast.literal_eval(safe_str)\n",
        "\n",
        "data['atomic_positions'] = data['atomic_positions'].apply(safe_eval)\n",
        "data['atomic_elements'] = data['atomic_elements'].apply(safe_eval)\n",
        "element_encoder = LabelEncoder()\n",
        "all_elements = sum(data['atomic_elements'].tolist(), [])\n",
        "element_encoder.fit(all_elements)\n",
        "def elements_to_numbers(elements):\n",
        "    return element_encoder.transform(elements).tolist()\n",
        "\n",
        "data['atomic_numbers'] = data['atomic_elements'].apply(elements_to_numbers)\n",
        "piezoelectricity_values = data['e_ij_max'].values"
      ]
    },
    {
      "cell_type": "code",
      "execution_count": 3,
      "metadata": {
        "id": "n-a_mCgD06LQ"
      },
      "outputs": [],
      "source": [
        "def create_graph_data(row, piezoelectricity_value):\n",
        "    positions = torch.tensor(row['atomic_positions'], dtype=torch.float)\n",
        "    atomic_numbers = torch.tensor(row['atomic_numbers'], dtype=torch.long).view(-1, 1)\n",
        "    node_features = torch.cat((atomic_numbers, positions), dim=1)\n",
        "    num_atoms = positions.size(0)\n",
        "    edge_index = torch.combinations(torch.arange(num_atoms), with_replacement=False)\n",
        "    return Data(x=node_features, edge_index=edge_index.t().contiguous(), y=torch.tensor([piezoelectricity_value], dtype=torch.float))\n",
        "\n",
        "graph_data_list = [create_graph_data(row, piezoelectricity_values[i]) for i, row in data.iterrows()]\n"
      ]
    },
    {
      "cell_type": "code",
      "execution_count": 4,
      "metadata": {
        "id": "SR08ou2n08m-"
      },
      "outputs": [],
      "source": [
        "class GCNPiezoelectricModel(torch.nn.Module):\n",
        "    def __init__(self, node_features, hidden_dim):\n",
        "        super(GCNPiezoelectricModel, self).__init__()\n",
        "        self.conv1 = GCNConv(node_features, hidden_dim)\n",
        "        self.conv2 = GCNConv(hidden_dim, hidden_dim)\n",
        "        self.fc = torch.nn.Linear(hidden_dim, 1)\n",
        "\n",
        "    def forward(self, data):\n",
        "        x, edge_index = data.x, data.edge_index\n",
        "        x = x.float().view(-1, node_features)\n",
        "        x = F.relu(self.conv1(x, edge_index))\n",
        "        x = F.relu(self.conv2(x, edge_index))\n",
        "        x = torch_geometric.nn.global_mean_pool(x, data.batch)\n",
        "        x = self.fc(x)\n",
        "        return x\n",
        "\n",
        "node_features = 1\n",
        "model = GCNPiezoelectricModel(node_features, hidden_dim=64)\n"
      ]
    },
    {
      "cell_type": "code",
      "execution_count": 5,
      "metadata": {
        "colab": {
          "base_uri": "https://localhost:8080/"
        },
        "id": "h3vpVMJs1dwm",
        "outputId": "ce432391-84e3-4ac6-d5b8-d053e6c2049e"
      },
      "outputs": [
        {
          "name": "stderr",
          "output_type": "stream",
          "text": [
            "/Users/sonnyyoung/miniconda3/lib/python3.8/site-packages/torch_geometric/deprecation.py:22: UserWarning: 'data.DataLoader' is deprecated, use 'loader.DataLoader' instead\n",
            "  warnings.warn(out)\n"
          ]
        }
      ],
      "source": [
        "from sklearn.model_selection import train_test_split\n",
        "from torch_geometric.data import DataLoader\n",
        "\n",
        "train_data, test_data = train_test_split(graph_data_list, test_size=0.1, random_state=42)\n",
        "train_loader = DataLoader(train_data, batch_size=32, shuffle=True)\n",
        "test_loader = DataLoader(test_data, batch_size=32, shuffle=True)\n"
      ]
    },
    {
      "cell_type": "code",
      "execution_count": 6,
      "metadata": {
        "id": "vz4YuEFB1kod"
      },
      "outputs": [],
      "source": [
        "node_features = graph_data_list[0].num_node_features\n",
        "model = GCNPiezoelectricModel(node_features, hidden_dim=64)\n",
        "optimizer = torch.optim.Adam(model.parameters(), lr=0.001)"
      ]
    },
    {
      "cell_type": "code",
      "execution_count": 9,
      "metadata": {
        "colab": {
          "base_uri": "https://localhost:8080/",
          "height": 1000
        },
        "id": "2pCbR4VNWCbl",
        "outputId": "f442be6a-ecf1-41d2-81c8-17329b446287"
      },
      "outputs": [
        {
          "name": "stdout",
          "output_type": "stream",
          "text": [
            "Epoch 1: Loss = 13.468563612430327\n",
            "Epoch 2: Loss = 13.84477097308764\n",
            "Epoch 3: Loss = 13.459442195071968\n",
            "Epoch 4: Loss = 13.659910053976121\n",
            "Epoch 5: Loss = 13.522552725127948\n",
            "Epoch 6: Loss = 13.254942470981229\n",
            "Epoch 7: Loss = 13.223291342937818\n",
            "Epoch 8: Loss = 13.371802648869894\n",
            "Epoch 9: Loss = 13.162070598333113\n",
            "Epoch 10: Loss = 13.346398658649896\n",
            "Epoch 11: Loss = 13.481181671222052\n",
            "Epoch 12: Loss = 13.29827191368226\n",
            "Epoch 13: Loss = 13.174952847662793\n",
            "Epoch 14: Loss = 13.277951350135188\n",
            "Epoch 15: Loss = 13.375533948662461\n",
            "Epoch 16: Loss = 13.307405523074571\n",
            "Epoch 17: Loss = 13.318681961746625\n",
            "Epoch 18: Loss = 13.407769176588264\n",
            "Epoch 19: Loss = 13.298068673700415\n",
            "Epoch 20: Loss = 13.143688262149851\n",
            "Epoch 21: Loss = 13.057582406587498\n",
            "Epoch 22: Loss = 13.11709885539547\n",
            "Epoch 23: Loss = 13.234426028946395\n",
            "Epoch 24: Loss = 13.435445650290417\n",
            "Epoch 25: Loss = 13.19233987055799\n",
            "Epoch 26: Loss = 13.139694636226983\n",
            "Epoch 27: Loss = 13.19445381305551\n",
            "Epoch 28: Loss = 16.770448433455602\n",
            "Epoch 29: Loss = 13.324289338242624\n",
            "Epoch 30: Loss = 13.045903363855937\n",
            "Epoch 31: Loss = 13.181329847343507\n",
            "Epoch 32: Loss = 13.178093275395772\n",
            "Epoch 33: Loss = 13.53698393638416\n",
            "Epoch 34: Loss = 13.019453790559563\n",
            "Epoch 35: Loss = 13.15385395833241\n",
            "Epoch 36: Loss = 13.233267416877132\n",
            "Epoch 37: Loss = 13.208821178123515\n",
            "Epoch 38: Loss = 13.001687002758826\n",
            "Epoch 39: Loss = 13.110716819442729\n",
            "Epoch 40: Loss = 12.99362383895023\n",
            "Epoch 41: Loss = 13.105207901488068\n",
            "Epoch 42: Loss = 13.072076292768601\n",
            "Epoch 43: Loss = 13.124807444631413\n",
            "Epoch 44: Loss = 13.112725122321036\n",
            "Epoch 45: Loss = 13.170584165921776\n",
            "Epoch 46: Loss = 13.055224010059911\n",
            "Epoch 47: Loss = 12.93202786836573\n",
            "Epoch 48: Loss = 13.046143658379073\n",
            "Epoch 49: Loss = 16.75727868304458\n",
            "Epoch 50: Loss = 12.97570444146792\n",
            "Epoch 51: Loss = 12.941027936435514\n",
            "Epoch 52: Loss = 13.099390956022406\n",
            "Epoch 53: Loss = 13.10651286731484\n",
            "Epoch 54: Loss = 12.986573593911304\n",
            "Epoch 55: Loss = 13.107416402909063\n",
            "Epoch 56: Loss = 12.926172289156145\n",
            "Epoch 57: Loss = 12.956650913723054\n",
            "Epoch 58: Loss = 12.996960484212444\n",
            "Epoch 59: Loss = 12.797596937546166\n",
            "Epoch 60: Loss = 12.917598145302906\n",
            "Epoch 61: Loss = 12.851102964211536\n",
            "Epoch 62: Loss = 12.817222894519888\n",
            "Epoch 63: Loss = 12.863516746349232\n",
            "Epoch 64: Loss = 13.04576714737441\n",
            "Epoch 65: Loss = 12.707295911927377\n",
            "Epoch 66: Loss = 13.060370984577364\n",
            "Epoch 67: Loss = 12.905985964241848\n",
            "Epoch 68: Loss = 12.880423649344394\n",
            "Epoch 69: Loss = 12.875387376354587\n",
            "Epoch 70: Loss = 12.963222751053431\n",
            "Epoch 71: Loss = 12.694553645708227\n",
            "Epoch 72: Loss = 13.053685624753275\n",
            "Epoch 73: Loss = 12.807044491332064\n",
            "Epoch 74: Loss = 12.941398199527494\n",
            "Epoch 75: Loss = 12.835804704376446\n",
            "Epoch 76: Loss = 12.77085074622144\n",
            "Epoch 77: Loss = 12.887878187882002\n",
            "Epoch 78: Loss = 12.868854673318966\n",
            "Epoch 79: Loss = 12.909327189768515\n",
            "Epoch 80: Loss = 12.765335522672181\n",
            "Epoch 81: Loss = 12.682849805521709\n",
            "Epoch 82: Loss = 12.808524231115976\n",
            "Epoch 83: Loss = 12.848078948195262\n",
            "Epoch 84: Loss = 12.77053072632\n",
            "Epoch 85: Loss = 12.670387082522915\n",
            "Epoch 86: Loss = 13.362084780329017\n",
            "Epoch 87: Loss = 12.944065057782717\n",
            "Epoch 88: Loss = 12.681286866946888\n",
            "Epoch 89: Loss = 12.79618083885921\n",
            "Epoch 90: Loss = 12.977450505379707\n",
            "Epoch 91: Loss = 12.86033042336023\n",
            "Epoch 92: Loss = 12.725143359873885\n",
            "Epoch 93: Loss = 12.87421041534793\n",
            "Epoch 94: Loss = 12.602021611826395\n",
            "Epoch 95: Loss = 12.634321939560675\n",
            "Epoch 96: Loss = 12.815129426217847\n",
            "Epoch 97: Loss = 12.613041848264714\n",
            "Epoch 98: Loss = 12.540017121581622\n",
            "Epoch 99: Loss = 12.623120452127148\n",
            "Epoch 100: Loss = 12.52710433160105\n",
            "Average Test MSE per Sample: 8.16472563310103\n"
          ]
        }
      ],
      "source": [
        "train_losses = []\n",
        "\n",
        "for epoch in range(100):\n",
        "    model.train()\n",
        "    total_loss = 0\n",
        "    for data in train_loader:\n",
        "        optimizer.zero_grad()\n",
        "        output = model(data)\n",
        "        loss = F.mse_loss(output.view(-1), data.y)\n",
        "        loss.backward()\n",
        "        optimizer.step()\n",
        "        total_loss += loss.item()\n",
        "    avg_loss = total_loss / len(train_loader)\n",
        "    train_losses.append(avg_loss)\n",
        "    print(f\"Epoch {epoch+1}: Loss = {avg_loss}\")\n",
        "\n",
        "model.eval()\n",
        "test_losses = []\n",
        "total_samples = 0\n",
        "\n",
        "with torch.no_grad():\n",
        "    for data in test_loader:\n",
        "        output = model(data)\n",
        "        loss = F.mse_loss(output.view(-1), data.y, reduction='sum')\n",
        "        test_losses.append(loss.item())\n",
        "        total_samples += data.y.size(0) \n",
        "\n",
        "avg_test_loss = sum(test_losses) / total_samples \n",
        "print(f\"Average Test MSE per Sample: {avg_test_loss}\")"
      ]
    },
    {
      "cell_type": "code",
      "execution_count": 43,
      "metadata": {},
      "outputs": [
        {
          "name": "stderr",
          "output_type": "stream",
          "text": [
            "/var/folders/pg/22_lhlhj5tzb89wyhd4r3j880000gn/T/ipykernel_2934/1069787038.py:14: RuntimeWarning: invalid value encountered in log\n",
            "  y =  np.log(np.array(predictions) + 0.00001)\n"
          ]
        },
        {
          "data": {
            "image/png": "[encoded data removed]",
            "text/plain": [
              "<Figure size 600x400 with 1 Axes>"
            ]
          },
          "metadata": {},
          "output_type": "display_data"
        }
      ],
      "source": [
        "actuals = []\n",
        "predictions = []\n",
        "\n",
        "model.eval()\n",
        "\n",
        "with torch.no_grad():\n",
        "    for data in test_loader:\n",
        "        output = model(data)\n",
        "        actuals.extend(data.y.view(-1).tolist()) \n",
        "        predictions.extend(output.view(-1).tolist())\n",
        "\n",
        "plt.figure(figsize=(6,4))\n",
        "x = np.log(np.array(actuals) + 0.00001)\n",
        "y =  np.log(np.array(predictions) + 0.00001)\n",
        "plt.scatter(x, y)\n",
        "plt.xlabel('Actual Values (log)')\n",
        "plt.ylabel('Predicted Values (log)')\n",
        "range = [min(min(x), min(y)), max(max(x), max(y))]\n",
        "plt.plot(range, range, 'k--')\n",
        "plt.show()"
      ]
    },
    {
      "cell_type": "code",
      "execution_count": null,
      "metadata": {},
      "outputs": [],
      "source": []
    }
  ],
  "metadata": {
    "accelerator": "GPU",
    "colab": {
      "machine_shape": "hm",
      "provenance": []
    },
    "kernelspec": {
      "display_name": "Python 3",
      "name": "python3"
    },
    "language_info": {
      "codemirror_mode": {
        "name": "ipython",
        "version": 3
      },
      "file_extension": ".py",
      "mimetype": "text/x-python",
      "name": "python",
      "nbconvert_exporter": "python",
      "pygments_lexer": "ipython3",
      "version": "3.8.18"
    }
  },
  "nbformat": 4,
  "nbformat_minor": 0
}
